{
 "cells": [
  {
   "cell_type": "code",
   "execution_count": null,
   "metadata": {
    "collapsed": true
   },
   "outputs": [],
   "source": [
    "\n",
    "\n",
    "# from builtins import __build_class__\n",
    "import builtins\n",
    "\n",
    "\n",
    "# from builtins import\n",
    "old_bc = builtins.__build_class__\n",
    "\n",
    "def new_build_class(func, name, *args, **kwargs):\n",
    "    print(\"*\" * 20)\n",
    "    print(\"tapping into class creation\")\n",
    "    print(\"build args are function {}, name {}, args {}, kwargs {}\".format(func, name, args, kwargs))\n",
    "    return old_bc(func, name, *args, **kwargs)\n",
    "\n",
    "\n",
    "builtins.__build_class__ = new_build_class\n",
    "\n",
    "\n",
    "# globals()[__build_class__] = new_build_class\n",
    "# print(\"globals\", globals())\n",
    "\n",
    "\n",
    "class Library(object):\n",
    "    def foo(self):\n",
    "        self.bar()\n",
    "        print(\"I am Library method foo\")\n",
    "\n",
    "\n",
    "class Client(Library):\n",
    "    def __new__(cls, *args, **kwargs):\n",
    "        return super().__new__(cls, *args, **kwargs)\n",
    "\n",
    "    def __init__(self):\n",
    "        try:\n",
    "            hasattr(self, 'foo')\n",
    "        except Exception as e:\n",
    "            raise TypeError(\"Library code must implement foo method {}\".format(e))\n",
    "\n",
    "    def bar(self):\n",
    "        print(\"I am client code bar\")\n",
    "\n",
    "\n",
    "c = Client()\n",
    "c.foo()\n",
    "\n",
    "\n",
    "# so it works. Now how can we enforce constraint on client code to implement bar.\n",
    "# Let's hook into class creation using data model method.\n",
    "\n",
    "# MRO in python\n",
    "\n",
    "class A:\n",
    "    pass\n",
    "\n",
    "\n",
    "class B(A):\n",
    "    pass\n",
    "\n",
    "\n",
    "class C(B):\n",
    "    pass\n",
    "\n",
    "\n",
    "class A1:\n",
    "    pass\n",
    "\n",
    "\n",
    "class Test(C, A1):\n",
    "    pass\n",
    "\n",
    "\n",
    "t = Test()\n",
    "# print(Test.__mro__)\n",
    "\n",
    "\n",
    "# In python builtin module has a __build_class__ which we can hook into for class creation.\n",
    "# How to find out\n",
    "\"\"\"\n",
    "import inspect\n",
    "import builtins\n",
    "inspect.getmembers(builtins)\n",
    "\"\"\"\n",
    "\n",
    "# Let's try to hook into python's class creation"
   ]
  }
 ],
 "metadata": {
  "kernelspec": {
   "display_name": "Python 3",
   "language": "python",
   "name": "python3"
  },
  "language_info": {
   "codemirror_mode": {
    "name": "ipython",
    "version": 2
   },
   "file_extension": ".py",
   "mimetype": "text/x-python",
   "name": "python",
   "nbconvert_exporter": "python",
   "pygments_lexer": "ipython2",
   "version": "2.7.6"
  },
  "pycharm": {
   "stem_cell": {
    "cell_type": "raw",
    "source": [],
    "metadata": {
     "collapsed": false
    }
   }
  }
 },
 "nbformat": 4,
 "nbformat_minor": 0
}